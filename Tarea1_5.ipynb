{
  "nbformat": 4,
  "nbformat_minor": 0,
  "metadata": {
    "colab": {
      "provenance": [],
      "authorship_tag": "ABX9TyOpuuGbWQ8E44AQLfPEp0Vr",
      "include_colab_link": true
    },
    "kernelspec": {
      "name": "python3",
      "display_name": "Python 3"
    },
    "language_info": {
      "name": "python"
    }
  },
  "cells": [
    {
      "cell_type": "markdown",
      "metadata": {
        "id": "view-in-github",
        "colab_type": "text"
      },
      "source": [
        "<a href=\"https://colab.research.google.com/github/jparales/Mi-commit-online/blob/master/Tarea1_5.ipynb\" target=\"_parent\"><img src=\"https://colab.research.google.com/assets/colab-badge.svg\" alt=\"Open In Colab\"/></a>"
      ]
    },
    {
      "cell_type": "code",
      "execution_count": 46,
      "metadata": {
        "colab": {
          "base_uri": "https://localhost:8080/"
        },
        "id": "3O9P5rfpv0G9",
        "outputId": "2105b52e-8e76-4c7c-a49c-41ffe6033936"
      },
      "outputs": [
        {
          "output_type": "stream",
          "name": "stdout",
          "text": [
            "arreglo x:  [832 145 787 573 805 361 854 219 427 245 884 367 143 759 888 542 752 753\n",
            " 112 557 703  36 197 118 686 500 175 106 796 778 831 807 852 795 846 126\n",
            " 172 402 819 790 318 846 878 721 472 363 246 742 588 557 601   4 507 266\n",
            " 292 176 345  73 133 401 513 348 630 327 898 418 627 225  12 649 589 179\n",
            " 111 353 250 581 316 246 561 693 499 287 375  62  52 315 796 528 106 753\n",
            " 101  26 617 490 163 299 852 706 177 280]\n"
          ]
        }
      ],
      "source": [
        "import numpy as np\n",
        "x = np.int_(np.random.random(100)*900)\n",
        "print(\"arreglo x: \", x)"
      ]
    },
    {
      "cell_type": "code",
      "source": [
        "Y=[]\n",
        "length=len(x)\n",
        "for i in range(10):\n",
        "  yi=(x[i]+x[90+i])/length\n",
        "  Y.append(yi)\n",
        "print(Y)\n",
        "\n",
        "\n",
        "\n",
        "\n"
      ],
      "metadata": {
        "colab": {
          "base_uri": "https://localhost:8080/"
        },
        "id": "npyrUax10AX4",
        "outputId": "c6231c9a-a028-40e2-f5e6-30b02ac165ad"
      },
      "execution_count": 47,
      "outputs": [
        {
          "output_type": "stream",
          "name": "stdout",
          "text": [
            "[9.33, 1.71, 14.04, 10.63, 9.68, 6.6, 17.06, 9.25, 6.04, 5.25]\n"
          ]
        }
      ]
    },
    {
      "cell_type": "code",
      "source": [
        "length=len(x)\n",
        "Z=(x[:10]+x[-10:])/length\n",
        "print(Z)"
      ],
      "metadata": {
        "colab": {
          "base_uri": "https://localhost:8080/"
        },
        "id": "iRl8qnOT_W_z",
        "outputId": "0b655f94-8457-46ce-ff80-fa26bee74b30"
      },
      "execution_count": 49,
      "outputs": [
        {
          "output_type": "stream",
          "name": "stdout",
          "text": [
            "[ 9.33  1.71 14.04 10.63  9.68  6.6  17.06  9.25  6.04  5.25]\n"
          ]
        }
      ]
    }
  ]
}