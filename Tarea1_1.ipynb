{
  "nbformat": 4,
  "nbformat_minor": 0,
  "metadata": {
    "colab": {
      "provenance": [],
      "authorship_tag": "ABX9TyMkZ+5xz0bvpuSMVxX+jBnm",
      "include_colab_link": true
    },
    "kernelspec": {
      "name": "python3",
      "display_name": "Python 3"
    },
    "language_info": {
      "name": "python"
    }
  },
  "cells": [
    {
      "cell_type": "markdown",
      "metadata": {
        "id": "view-in-github",
        "colab_type": "text"
      },
      "source": [
        "<a href=\"https://colab.research.google.com/github/jparales/Mi-commit-online/blob/master/Tarea1_1.ipynb\" target=\"_parent\"><img src=\"https://colab.research.google.com/assets/colab-badge.svg\" alt=\"Open In Colab\"/></a>"
      ]
    },
    {
      "cell_type": "code",
      "source": [
        "mi_ent=2\n",
        "mi_float=5.0"
      ],
      "metadata": {
        "id": "ZuVw_yAIKKhr"
      },
      "execution_count": 20,
      "outputs": []
    },
    {
      "cell_type": "code",
      "source": [
        "print(\"la primera tiene una valor de\", mi_ent, \"y la segunda variable tiene una valor de\", mi_float)"
      ],
      "metadata": {
        "colab": {
          "base_uri": "https://localhost:8080/"
        },
        "id": "jex2R71cK5cW",
        "outputId": "f04a235f-3324-4488-ba45-882cef4c79f0"
      },
      "execution_count": 19,
      "outputs": [
        {
          "output_type": "stream",
          "name": "stdout",
          "text": [
            "la primera tiene una valor de 2 y la segunda variable tiene una valor de 5.0\n"
          ]
        }
      ]
    },
    {
      "cell_type": "code",
      "source": [
        "Division1=mi_float/mi_ent\n",
        "print(\"El resultado es\",Division1)"
      ],
      "metadata": {
        "colab": {
          "base_uri": "https://localhost:8080/"
        },
        "id": "PPuCZ_3DMFDV",
        "outputId": "e26e3c65-5861-42f1-ee87-0b4b23ff839b"
      },
      "execution_count": 21,
      "outputs": [
        {
          "output_type": "stream",
          "name": "stdout",
          "text": [
            "El resultado es 2.5\n"
          ]
        }
      ]
    },
    {
      "cell_type": "code",
      "source": [
        "mi_lista=[101, 26, \"rio\", \"gato\", 31, 28]\n",
        "print(mi_lista)"
      ],
      "metadata": {
        "colab": {
          "base_uri": "https://localhost:8080/"
        },
        "id": "ST8Kuh5TM2zm",
        "outputId": "4c3359fa-1072-401b-98e3-dfb73cdb1117"
      },
      "execution_count": 32,
      "outputs": [
        {
          "output_type": "stream",
          "name": "stdout",
          "text": [
            "[101, 26, 'rio', 'gato', 31, 28]\n"
          ]
        }
      ]
    },
    {
      "cell_type": "code",
      "source": [
        "mi_lista=[101, 26, \"rio\", \"gato\", 31, 28]\n",
        "mi_lista.append(257)\n",
        "mi_lista.append(348)\n",
        "mi_lista.append(583)\n",
        "print(mi_lista)"
      ],
      "metadata": {
        "colab": {
          "base_uri": "https://localhost:8080/"
        },
        "id": "hcoiAKlmPeKW",
        "outputId": "0125de50-55c9-44aa-c9d8-f262056bc741"
      },
      "execution_count": 34,
      "outputs": [
        {
          "output_type": "stream",
          "name": "stdout",
          "text": [
            "[101, 26, 'rio', 'gato', 31, 28, 257, 348, 583]\n"
          ]
        }
      ]
    },
    {
      "cell_type": "code",
      "source": [
        "for i in mi_lista:\n",
        "  print(i)\n"
      ],
      "metadata": {
        "colab": {
          "base_uri": "https://localhost:8080/"
        },
        "id": "_caV74ikQJh7",
        "outputId": "d1c1cf5a-d8c3-4079-a246-3cbc256ad370"
      },
      "execution_count": 41,
      "outputs": [
        {
          "output_type": "stream",
          "name": "stdout",
          "text": [
            "101\n",
            "26\n",
            "rio\n",
            "gato\n",
            "31\n",
            "28\n",
            "257\n",
            "348\n",
            "583\n"
          ]
        }
      ]
    },
    {
      "cell_type": "code",
      "source": [
        "mi_lista=[101, 26, \"rio\", \"gato\", 31, 28]\n",
        "mi_lista.append(257)\n",
        "mi_lista.append(348)\n",
        "mi_lista.append(583)\n",
        "print(mi_lista[2])"
      ],
      "metadata": {
        "colab": {
          "base_uri": "https://localhost:8080/"
        },
        "id": "8XaA8sp0Rz-Y",
        "outputId": "12d4d5ce-cd07-44f5-9408-c3d65699e45b"
      },
      "execution_count": 40,
      "outputs": [
        {
          "output_type": "stream",
          "name": "stdout",
          "text": [
            "rio\n"
          ]
        }
      ]
    },
    {
      "cell_type": "code",
      "source": [
        "size=0\n",
        "for i in mi_lista:\n",
        "  size=size+1\n",
        "print(\"la longitud de la lista es\", size)\n"
      ],
      "metadata": {
        "colab": {
          "base_uri": "https://localhost:8080/"
        },
        "id": "1KDGE1jCUeix",
        "outputId": "fef64277-8a8d-415f-fdef-f5c113406d3b"
      },
      "execution_count": 45,
      "outputs": [
        {
          "output_type": "stream",
          "name": "stdout",
          "text": [
            "la longitud de la lista es 9\n"
          ]
        }
      ]
    },
    {
      "cell_type": "code",
      "source": [
        "length=len(mi_lista)\n",
        "print(\"la longitud de la lista es\", length)"
      ],
      "metadata": {
        "colab": {
          "base_uri": "https://localhost:8080/"
        },
        "id": "fsSgMtWcVzQ9",
        "outputId": "1272d2ac-7581-4daf-8b2f-f5ca2f786517"
      },
      "execution_count": 46,
      "outputs": [
        {
          "output_type": "stream",
          "name": "stdout",
          "text": [
            "la longitud de la lista es 9\n"
          ]
        }
      ]
    }
  ]
}