{
  "nbformat": 4,
  "nbformat_minor": 0,
  "metadata": {
    "colab": {
      "provenance": [],
      "authorship_tag": "ABX9TyNwBioktlJiAK5nLd0ROX6Q",
      "include_colab_link": true
    },
    "kernelspec": {
      "name": "python3",
      "display_name": "Python 3"
    },
    "language_info": {
      "name": "python"
    }
  },
  "cells": [
    {
      "cell_type": "markdown",
      "metadata": {
        "id": "view-in-github",
        "colab_type": "text"
      },
      "source": [
        "<a href=\"https://colab.research.google.com/github/jparales/Mi-commit-online/blob/master/Tarea1_3.ipynb\" target=\"_parent\"><img src=\"https://colab.research.google.com/assets/colab-badge.svg\" alt=\"Open In Colab\"/></a>"
      ]
    },
    {
      "cell_type": "code",
      "execution_count": 6,
      "metadata": {
        "colab": {
          "base_uri": "https://localhost:8080/"
        },
        "id": "ZtjyLzeOg1n-",
        "outputId": "f33d202b-19be-4bd0-f075-4bacd919718f"
      },
      "outputs": [
        {
          "output_type": "stream",
          "name": "stdout",
          "text": [
            "resultado: 187\n"
          ]
        }
      ],
      "source": [
        "def multiplicacion(a, b):\n",
        "  mult=a*b\n",
        "  return(mult)\n",
        "\n",
        "resultado=multiplicacion(11, 17)\n",
        "print(\"resultado:\", resultado)"
      ]
    }
  ]
}