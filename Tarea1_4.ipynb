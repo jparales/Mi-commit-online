{
  "nbformat": 4,
  "nbformat_minor": 0,
  "metadata": {
    "colab": {
      "provenance": [],
      "authorship_tag": "ABX9TyN3hiC6EAhsJZanK3fnp0CZ",
      "include_colab_link": true
    },
    "kernelspec": {
      "name": "python3",
      "display_name": "Python 3"
    },
    "language_info": {
      "name": "python"
    }
  },
  "cells": [
    {
      "cell_type": "markdown",
      "metadata": {
        "id": "view-in-github",
        "colab_type": "text"
      },
      "source": [
        "<a href=\"https://colab.research.google.com/github/jparales/Mi-commit-online/blob/master/Tarea1_4.ipynb\" target=\"_parent\"><img src=\"https://colab.research.google.com/assets/colab-badge.svg\" alt=\"Open In Colab\"/></a>"
      ]
    },
    {
      "cell_type": "code",
      "execution_count": 36,
      "metadata": {
        "colab": {
          "base_uri": "https://localhost:8080/"
        },
        "id": "WcofJ_aBnIOZ",
        "outputId": "1a0a8de2-e3b5-49c3-f512-dca17724587d"
      },
      "outputs": [
        {
          "output_type": "stream",
          "name": "stdout",
          "text": [
            "arreglo y:  [187 684 265  12 290 517 814 470  94  47 894 150 322 492 642 414 390 811\n",
            " 839 362 730 767 489 297 620 154  34 249   6 882 317 417 391 686 245 784\n",
            " 561 414 685 862 842 896 100 232 532 205 404 698 757 892 890 163 472  93\n",
            " 380 153 207 423 520 536 423 657 847 707 426 341 356 816 230 417 214 841\n",
            " 232 212 711 878  73 233  69 372 127 576 667 623 443 439 634   7  77 505\n",
            " 174 779 389 776 749 603 255 825 285 330]\n"
          ]
        }
      ],
      "source": [
        "import numpy as np\n",
        "y = np.int_(np.random.random(100)*900)\n",
        "print(\"arreglo y: \", y)"
      ]
    },
    {
      "cell_type": "code",
      "source": [
        "min=y[0]\n",
        "for i in y:\n",
        "  if i<min:\n",
        "    min=i\n",
        "print(\"El valor mínimo según mi código es\", min, \"y según np.min es\", np.min(y))"
      ],
      "metadata": {
        "colab": {
          "base_uri": "https://localhost:8080/"
        },
        "id": "vRyKf2AwoJfJ",
        "outputId": "0e83c5ea-d85f-415c-a1f0-05ddb57df697"
      },
      "execution_count": 37,
      "outputs": [
        {
          "output_type": "stream",
          "name": "stdout",
          "text": [
            "El valor mínimo según mi código es 6 y según np.min es 6\n"
          ]
        }
      ]
    },
    {
      "cell_type": "code",
      "source": [],
      "metadata": {
        "id": "pGDWsSZXsjUZ"
      },
      "execution_count": null,
      "outputs": []
    }
  ]
}