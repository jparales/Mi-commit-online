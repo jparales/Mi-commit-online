{
  "nbformat": 4,
  "nbformat_minor": 0,
  "metadata": {
    "colab": {
      "provenance": [],
      "authorship_tag": "ABX9TyMbvSPyxrTN/eFOGzRm7yMX",
      "include_colab_link": true
    },
    "kernelspec": {
      "name": "python3",
      "display_name": "Python 3"
    },
    "language_info": {
      "name": "python"
    }
  },
  "cells": [
    {
      "cell_type": "markdown",
      "metadata": {
        "id": "view-in-github",
        "colab_type": "text"
      },
      "source": [
        "<a href=\"https://colab.research.google.com/github/jparales/Mi-commit-online/blob/master/Tarea1_2.ipynb\" target=\"_parent\"><img src=\"https://colab.research.google.com/assets/colab-badge.svg\" alt=\"Open In Colab\"/></a>"
      ]
    },
    {
      "cell_type": "code",
      "execution_count": 21,
      "metadata": {
        "colab": {
          "base_uri": "https://localhost:8080/"
        },
        "id": "CV6uLUvDXbiJ",
        "outputId": "406b3c06-8ede-492e-effc-9653003e57f9"
      },
      "outputs": [
        {
          "output_type": "stream",
          "name": "stdout",
          "text": [
            "arreglo x:  [130 162 497 247 538 610  43 702 510  99 510 380 138 226 118 572 285 562\n",
            " 522 125  44 581 455 660 560 382 626 614 624 485 888 190  74 649 710 304\n",
            " 589 836 128 680  24 111 738 866 786  56 799 819 371 839 476 187 156 238\n",
            " 390 734 239 864  18 426 424 406 500 208 273 544 385 249 704 422 623 495\n",
            " 686 217 357 587 310 822 137 445 315 678 210 872 824 894 729 751 689 866\n",
            " 365 371 657 770 581 406 445 580 348 420]\n"
          ]
        }
      ],
      "source": [
        "import numpy as np\n",
        "x = np.int_(np.random.random(100)*900)\n",
        "print(\"arreglo x: \", x)"
      ]
    },
    {
      "cell_type": "code",
      "source": [
        "for i in x:\n",
        "  if i>800:\n",
        "    break\n",
        "  if i%2!=0:\n",
        "    print(i)\n"
      ],
      "metadata": {
        "colab": {
          "base_uri": "https://localhost:8080/"
        },
        "id": "3RH0bEH3X6s6",
        "outputId": "8a748903-b4b6-4b22-9a2b-8a766dbad307"
      },
      "execution_count": 23,
      "outputs": [
        {
          "output_type": "stream",
          "name": "stdout",
          "text": [
            "497\n",
            "247\n",
            "43\n",
            "99\n",
            "285\n",
            "125\n",
            "581\n",
            "455\n",
            "485\n"
          ]
        }
      ]
    }
  ]
}